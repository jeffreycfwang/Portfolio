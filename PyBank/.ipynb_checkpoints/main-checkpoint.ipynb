{
 "cells": [
  {
   "cell_type": "code",
   "execution_count": 131,
   "id": "ef29e473-769a-4714-8b7e-2fdfc703ca8b",
   "metadata": {},
   "outputs": [],
   "source": [
    "#import csv and pandas protocol\n",
    "import csv\n",
    "import pandas as pd"
   ]
  },
  {
   "cell_type": "code",
   "execution_count": 132,
   "id": "8e5d81f1-4af7-44e1-a1c4-5fc25d68a115",
   "metadata": {},
   "outputs": [
    {
     "name": "stdout",
     "output_type": "stream",
     "text": [
      "Curretn Working Directory: C:\\Users\\jeffr\\desktop\\github\\python-homework\\PyBank\n"
     ]
    }
   ],
   "source": [
    "#Import Path from Path Library\n",
    "from pathlib import Path\n",
    "print(f\"Curretn Working Directory: {Path.cwd()}\")"
   ]
  },
  {
   "cell_type": "code",
   "execution_count": 133,
   "id": "0bb91de9-24da-4dd8-8f9e-ae97896da513",
   "metadata": {},
   "outputs": [
    {
     "data": {
      "text/html": [
       "<div>\n",
       "<style scoped>\n",
       "    .dataframe tbody tr th:only-of-type {\n",
       "        vertical-align: middle;\n",
       "    }\n",
       "\n",
       "    .dataframe tbody tr th {\n",
       "        vertical-align: top;\n",
       "    }\n",
       "\n",
       "    .dataframe thead th {\n",
       "        text-align: right;\n",
       "    }\n",
       "</style>\n",
       "<table border=\"1\" class=\"dataframe\">\n",
       "  <thead>\n",
       "    <tr style=\"text-align: right;\">\n",
       "      <th></th>\n",
       "      <th>Date</th>\n",
       "      <th>Profit/Losses</th>\n",
       "    </tr>\n",
       "  </thead>\n",
       "  <tbody>\n",
       "    <tr>\n",
       "      <th>0</th>\n",
       "      <td>Jan-2010</td>\n",
       "      <td>867884</td>\n",
       "    </tr>\n",
       "    <tr>\n",
       "      <th>1</th>\n",
       "      <td>Feb-2010</td>\n",
       "      <td>984655</td>\n",
       "    </tr>\n",
       "    <tr>\n",
       "      <th>2</th>\n",
       "      <td>Mar-2010</td>\n",
       "      <td>322013</td>\n",
       "    </tr>\n",
       "    <tr>\n",
       "      <th>3</th>\n",
       "      <td>Apr-2010</td>\n",
       "      <td>-69417</td>\n",
       "    </tr>\n",
       "    <tr>\n",
       "      <th>4</th>\n",
       "      <td>May-2010</td>\n",
       "      <td>310503</td>\n",
       "    </tr>\n",
       "    <tr>\n",
       "      <th>...</th>\n",
       "      <td>...</td>\n",
       "      <td>...</td>\n",
       "    </tr>\n",
       "    <tr>\n",
       "      <th>81</th>\n",
       "      <td>Oct-2016</td>\n",
       "      <td>102685</td>\n",
       "    </tr>\n",
       "    <tr>\n",
       "      <th>82</th>\n",
       "      <td>Nov-2016</td>\n",
       "      <td>795914</td>\n",
       "    </tr>\n",
       "    <tr>\n",
       "      <th>83</th>\n",
       "      <td>Dec-2016</td>\n",
       "      <td>60988</td>\n",
       "    </tr>\n",
       "    <tr>\n",
       "      <th>84</th>\n",
       "      <td>Jan-2017</td>\n",
       "      <td>138230</td>\n",
       "    </tr>\n",
       "    <tr>\n",
       "      <th>85</th>\n",
       "      <td>Feb-2017</td>\n",
       "      <td>671099</td>\n",
       "    </tr>\n",
       "  </tbody>\n",
       "</table>\n",
       "<p>86 rows × 2 columns</p>\n",
       "</div>"
      ],
      "text/plain": [
       "        Date  Profit/Losses\n",
       "0   Jan-2010         867884\n",
       "1   Feb-2010         984655\n",
       "2   Mar-2010         322013\n",
       "3   Apr-2010         -69417\n",
       "4   May-2010         310503\n",
       "..       ...            ...\n",
       "81  Oct-2016         102685\n",
       "82  Nov-2016         795914\n",
       "83  Dec-2016          60988\n",
       "84  Jan-2017         138230\n",
       "85  Feb-2017         671099\n",
       "\n",
       "[86 rows x 2 columns]"
      ]
     },
     "execution_count": 133,
     "metadata": {},
     "output_type": "execute_result"
    }
   ],
   "source": [
    "#Import data\n",
    "budget = Path(\"Resources/budget_data.csv\")\n",
    "\n",
    "#Read in data\n",
    "pnl_df = pd.read_csv(budget)"
   ]
  },
  {
   "cell_type": "code",
   "execution_count": 134,
   "id": "7b1282ee-f15a-425c-a355-6ee7f7895fd8",
   "metadata": {},
   "outputs": [],
   "source": [
    "#Initiating the variables\n",
    "count = 0\n",
    "total = 0\n",
    "average = 0\n",
    "maximum = 0\n",
    "minimum = 0"
   ]
  },
  {
   "cell_type": "code",
   "execution_count": 135,
   "id": "d5b60d04-7823-478c-8bb5-2fa75df37ae2",
   "metadata": {},
   "outputs": [],
   "source": [
    "#Count using count function of \n",
    "count = pnl_df[\"Date\"].count()"
   ]
  },
  {
   "cell_type": "code",
   "execution_count": 136,
   "id": "092297dd-7ff0-43f2-aba9-2294821587c3",
   "metadata": {},
   "outputs": [],
   "source": [
    "total = pnl_df[\"Profit/Losses\"].sum()"
   ]
  },
  {
   "cell_type": "code",
   "execution_count": 137,
   "id": "58c140c4-6c53-4149-b82b-0ba0731f43a9",
   "metadata": {},
   "outputs": [],
   "source": [
    "average = pnl_df[\"Profit/Losses\"].mean()"
   ]
  },
  {
   "cell_type": "code",
   "execution_count": 138,
   "id": "ed388616-dbc1-4f96-85ed-d24091fd43b6",
   "metadata": {},
   "outputs": [],
   "source": [
    "maximum = pnl_df[\"Profit/Losses\"].max()"
   ]
  },
  {
   "cell_type": "code",
   "execution_count": 139,
   "id": "ee4f0e69-e793-4630-8be9-943647c1feea",
   "metadata": {},
   "outputs": [],
   "source": [
    "minimum = pnl_df[\"Profit/Losses\"].min()"
   ]
  },
  {
   "cell_type": "code",
   "execution_count": 140,
   "id": "5dcf2e14-241d-431d-9bf3-27eddbad21b8",
   "metadata": {},
   "outputs": [],
   "source": [
    "greatest_increase = pnl_df.loc[pnl_df['Profit/Losses'] == maximum]"
   ]
  },
  {
   "cell_type": "code",
   "execution_count": 141,
   "id": "2266f79e-462a-468a-bdc9-1d1600e2db4b",
   "metadata": {},
   "outputs": [
    {
     "data": {
      "text/plain": [
       "Int64Index([25], dtype='int64')"
      ]
     },
     "execution_count": 141,
     "metadata": {},
     "output_type": "execute_result"
    }
   ],
   "source": [
    "greatest_increase['Date'].index"
   ]
  },
  {
   "cell_type": "code",
   "execution_count": null,
   "id": "6db39d9c-db37-49c1-9e8a-e4c56afd543e",
   "metadata": {},
   "outputs": [
    {
     "data": {
      "text/plain": [
       "25    Feb-2012\n",
       "Name: Date, dtype: object"
      ]
     },
     "execution_count": 142,
     "metadata": {},
     "output_type": "execute_result"
    }
   ],
   "source": [
    "greatest_increase.loc[greatest_increase['Date'].index, 'Date']"
   ]
  },
  {
   "cell_type": "code",
   "execution_count": 149,
   "id": "9113e81f-60a5-4b70-80fa-4e197ff0e740",
   "metadata": {},
   "outputs": [],
   "source": [
    "max_date = greatest_increase['Date'][25]"
   ]
  },
  {
   "cell_type": "code",
   "execution_count": 150,
   "id": "c174d410-f602-4634-9e90-03f22e2416f3",
   "metadata": {},
   "outputs": [],
   "source": [
    "greatest_decrease = pnl_df.loc[pnl_df['Profit/Losses'] == minimum]"
   ]
  },
  {
   "cell_type": "code",
   "execution_count": 151,
   "id": "a44ca4ff-555c-4ffd-8d38-e1c153491a49",
   "metadata": {},
   "outputs": [
    {
     "data": {
      "text/plain": [
       "Int64Index([44], dtype='int64')"
      ]
     },
     "execution_count": 151,
     "metadata": {},
     "output_type": "execute_result"
    }
   ],
   "source": [
    "greatest_decrease['Date'].index"
   ]
  },
  {
   "cell_type": "code",
   "execution_count": 153,
   "id": "43f52aef-fab8-48c7-b94c-cc1df7b87a8e",
   "metadata": {},
   "outputs": [],
   "source": [
    "min_date = greatest_decrease['Date'][44]"
   ]
  },
  {
   "cell_type": "code",
   "execution_count": 157,
   "id": "a5582198-3c57-4324-80fa-d0df03579ac4",
   "metadata": {},
   "outputs": [
    {
     "name": "stdout",
     "output_type": "stream",
     "text": [
      "Financial Analysis\n",
      "------------------------------------------------------\n",
      "Total Months: 86\n",
      "Total : $38,382,578\n",
      "Average Change: $446,309.05\n",
      "Greatest Increase in Profits: Feb-2012 ($1,170,593)\n",
      "Greatest Decrease in Profits: Sep-2013 ($-1,196,225)\n"
     ]
    }
   ],
   "source": [
    "print(f\"Financial Analysis\")\n",
    "print(f\"------------------------------------------------------\")\n",
    "print(f\"Total Months: {count}\")\n",
    "print(f\"Total : ${total:,}\")\n",
    "print(f\"Average Change: ${average:,.2f}\")\n",
    "print(f\"Greatest Increase in Profits: {max_date} (${maximum:,})\")\n",
    "print(f\"Greatest Decrease in Profits: {min_date} (${minimum:,})\")"
   ]
  },
  {
   "cell_type": "code",
   "execution_count": 158,
   "id": "a3b3baf3-068d-4634-88c9-ad1b79abb3b9",
   "metadata": {},
   "outputs": [],
   "source": [
    "# Set the output file path\n",
    "output_path = Path(\"output.txt\")"
   ]
  },
  {
   "cell_type": "code",
   "execution_count": 159,
   "id": "af69590a-f06b-4c1a-8c22-5dc6978c733d",
   "metadata": {},
   "outputs": [],
   "source": [
    "# Open the output_path as a file object in \"write\" mode ('w')\n",
    "# Write a header line and write the contents of 'text' to the file\n",
    "with open(output_path, 'w') as file:\n",
    "    file.write(f\"Financial Analysis\\n\")\n",
    "    file.write(f\"------------------------------------------------------\\n\")\n",
    "    file.write(f\"Total Months: {count}\\n\")\n",
    "    file.write(f\"Total : ${total:,}\\n\")\n",
    "    file.write(f\"Average Change: ${average:,.2f}\\n\")\n",
    "    file.write(f\"Greatest Increase in Profits: {max_date} (${maximum:,})\\n\")\n",
    "    file.write(f\"Greatest Decrease in Profits: {min_date} (${minimum:,})\\n\")"
   ]
  },
  {
   "cell_type": "code",
   "execution_count": null,
   "id": "547bac6d-3ff7-41fe-9c4e-83de75a0f1ea",
   "metadata": {},
   "outputs": [],
   "source": []
  }
 ],
 "metadata": {
  "kernelspec": {
   "display_name": "Python 3 (ipykernel)",
   "language": "python",
   "name": "python3"
  },
  "language_info": {
   "codemirror_mode": {
    "name": "ipython",
    "version": 3
   },
   "file_extension": ".py",
   "mimetype": "text/x-python",
   "name": "python",
   "nbconvert_exporter": "python",
   "pygments_lexer": "ipython3",
   "version": "3.8.8"
  }
 },
 "nbformat": 4,
 "nbformat_minor": 5
}
