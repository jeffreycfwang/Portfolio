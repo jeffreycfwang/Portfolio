{
 "cells": [
  {
   "cell_type": "code",
   "execution_count": 8,
   "id": "ef29e473-769a-4714-8b7e-2fdfc703ca8b",
   "metadata": {},
   "outputs": [],
   "source": [
    "#import csv protocol\n",
    "import csv"
   ]
  },
  {
   "cell_type": "code",
   "execution_count": 9,
   "id": "8e5d81f1-4af7-44e1-a1c4-5fc25d68a115",
   "metadata": {},
   "outputs": [
    {
     "name": "stdout",
     "output_type": "stream",
     "text": [
      "Curretn Working Directory: C:\\Users\\jeffr\\desktop\\github\\python-homework\\PyBank\n"
     ]
    }
   ],
   "source": [
    "#Import Path from Pathlib\n",
    "from pathlib import Path\n",
    "print(f\"Curretn Working Directory: {Path.cwd()}\")"
   ]
  },
  {
   "cell_type": "code",
   "execution_count": 15,
   "id": "0bb91de9-24da-4dd8-8f9e-ae97896da513",
   "metadata": {},
   "outputs": [],
   "source": [
    "#Set budget using Pathlib\n",
    "budget = Path(\"Resources/budget_data.csv\")"
   ]
  },
  {
   "cell_type": "code",
   "execution_count": 25,
   "id": "7b1282ee-f15a-425c-a355-6ee7f7895fd8",
   "metadata": {},
   "outputs": [],
   "source": [
    "#zeroing variables\n",
    "count = -1\n",
    "pnl = 0\n",
    "average = 0\n",
    "maximum = 0\n",
    "minimum = 0"
   ]
  },
  {
   "cell_type": "code",
   "execution_count": 32,
   "id": "e3d88288-cd14-4396-a7f9-a9f8e8e3528f",
   "metadata": {},
   "outputs": [],
   "source": [
    "#disctionary uses key:value\n",
    "#key = mmm-yyyy\n",
    "#value = pnl"
   ]
  },
  {
   "cell_type": "code",
   "execution_count": null,
   "id": "cfa4f3fa-c116-415c-9b04-2585c55c53b6",
   "metadata": {},
   "outputs": [],
   "source": [
    "with open (budget, 'r') as pnlcsv:\n",
    "    rows = csv.reader(pnlcsv, delimiter = ',')\n",
    "    "
   ]
  },
  {
   "cell_type": "code",
   "execution_count": 30,
   "id": "f3be4925-67e3-4999-8beb-f70e65f5221b",
   "metadata": {},
   "outputs": [],
   "source": [
    "with open (budget, 'r') as pnlcsv:\n",
    "    for line in pnlcsv:\n",
    "        count = count + 1"
   ]
  },
  {
   "cell_type": "code",
   "execution_count": 33,
   "id": "a5582198-3c57-4324-80fa-d0df03579ac4",
   "metadata": {},
   "outputs": [
    {
     "name": "stdout",
     "output_type": "stream",
     "text": [
      "Financial Analysis\n",
      "-------------------------------------\n",
      "Total Months: 86\n",
      "Total : $0\n",
      "Average Change: $0\n",
      "Greatest Increase in Profits: 0 ($0)\n",
      "Greatest Decrease in Profits: 0 ($0)\n"
     ]
    }
   ],
   "source": [
    "print(f\"Financial Analysis\")\n",
    "print(f\"-------------------------------------\")\n",
    "print(f\"Total Months: {count}\")\n",
    "print(f\"Total : ${pnl}\")\n",
    "print(f\"Average Change: ${average}\")\n",
    "print(f\"Greatest Increase in Profits: {maximum} (${maximum})\")\n",
    "print(f\"Greatest Decrease in Profits: {minimum} (${minimum})\")"
   ]
  },
  {
   "cell_type": "code",
   "execution_count": null,
   "id": "90084b70-ccce-4958-89a7-c77e4190abb1",
   "metadata": {},
   "outputs": [],
   "source": []
  }
 ],
 "metadata": {
  "kernelspec": {
   "display_name": "Python 3 (ipykernel)",
   "language": "python",
   "name": "python3"
  },
  "language_info": {
   "codemirror_mode": {
    "name": "ipython",
    "version": 3
   },
   "file_extension": ".py",
   "mimetype": "text/x-python",
   "name": "python",
   "nbconvert_exporter": "python",
   "pygments_lexer": "ipython3",
   "version": "3.8.8"
  }
 },
 "nbformat": 4,
 "nbformat_minor": 5
}
