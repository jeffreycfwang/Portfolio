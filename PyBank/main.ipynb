{
 "cells": [
  {
   "cell_type": "code",
   "execution_count": 64,
   "id": "ef29e473-769a-4714-8b7e-2fdfc703ca8b",
   "metadata": {},
   "outputs": [],
   "source": [
    "#import csv and pandas protocol\n",
    "import csv\n",
    "import pandas as pd"
   ]
  },
  {
   "cell_type": "code",
   "execution_count": 65,
   "id": "8e5d81f1-4af7-44e1-a1c4-5fc25d68a115",
   "metadata": {},
   "outputs": [
    {
     "name": "stdout",
     "output_type": "stream",
     "text": [
      "Curretn Working Directory: C:\\Users\\jeffr\\desktop\\github\\python-homework\\PyBank\n"
     ]
    }
   ],
   "source": [
    "#Import Path from Path Library\n",
    "from pathlib import Path\n",
    "print(f\"Curretn Working Directory: {Path.cwd()}\")"
   ]
  },
  {
   "cell_type": "code",
   "execution_count": 68,
   "id": "0bb91de9-24da-4dd8-8f9e-ae97896da513",
   "metadata": {},
   "outputs": [
    {
     "data": {
      "text/html": [
       "<div>\n",
       "<style scoped>\n",
       "    .dataframe tbody tr th:only-of-type {\n",
       "        vertical-align: middle;\n",
       "    }\n",
       "\n",
       "    .dataframe tbody tr th {\n",
       "        vertical-align: top;\n",
       "    }\n",
       "\n",
       "    .dataframe thead th {\n",
       "        text-align: right;\n",
       "    }\n",
       "</style>\n",
       "<table border=\"1\" class=\"dataframe\">\n",
       "  <thead>\n",
       "    <tr style=\"text-align: right;\">\n",
       "      <th></th>\n",
       "      <th>Date</th>\n",
       "      <th>Profit/Losses</th>\n",
       "    </tr>\n",
       "  </thead>\n",
       "  <tbody>\n",
       "    <tr>\n",
       "      <th>0</th>\n",
       "      <td>Jan-2010</td>\n",
       "      <td>867884</td>\n",
       "    </tr>\n",
       "    <tr>\n",
       "      <th>1</th>\n",
       "      <td>Feb-2010</td>\n",
       "      <td>984655</td>\n",
       "    </tr>\n",
       "    <tr>\n",
       "      <th>2</th>\n",
       "      <td>Mar-2010</td>\n",
       "      <td>322013</td>\n",
       "    </tr>\n",
       "    <tr>\n",
       "      <th>3</th>\n",
       "      <td>Apr-2010</td>\n",
       "      <td>-69417</td>\n",
       "    </tr>\n",
       "    <tr>\n",
       "      <th>4</th>\n",
       "      <td>May-2010</td>\n",
       "      <td>310503</td>\n",
       "    </tr>\n",
       "    <tr>\n",
       "      <th>...</th>\n",
       "      <td>...</td>\n",
       "      <td>...</td>\n",
       "    </tr>\n",
       "    <tr>\n",
       "      <th>81</th>\n",
       "      <td>Oct-2016</td>\n",
       "      <td>102685</td>\n",
       "    </tr>\n",
       "    <tr>\n",
       "      <th>82</th>\n",
       "      <td>Nov-2016</td>\n",
       "      <td>795914</td>\n",
       "    </tr>\n",
       "    <tr>\n",
       "      <th>83</th>\n",
       "      <td>Dec-2016</td>\n",
       "      <td>60988</td>\n",
       "    </tr>\n",
       "    <tr>\n",
       "      <th>84</th>\n",
       "      <td>Jan-2017</td>\n",
       "      <td>138230</td>\n",
       "    </tr>\n",
       "    <tr>\n",
       "      <th>85</th>\n",
       "      <td>Feb-2017</td>\n",
       "      <td>671099</td>\n",
       "    </tr>\n",
       "  </tbody>\n",
       "</table>\n",
       "<p>86 rows × 2 columns</p>\n",
       "</div>"
      ],
      "text/plain": [
       "        Date  Profit/Losses\n",
       "0   Jan-2010         867884\n",
       "1   Feb-2010         984655\n",
       "2   Mar-2010         322013\n",
       "3   Apr-2010         -69417\n",
       "4   May-2010         310503\n",
       "..       ...            ...\n",
       "81  Oct-2016         102685\n",
       "82  Nov-2016         795914\n",
       "83  Dec-2016          60988\n",
       "84  Jan-2017         138230\n",
       "85  Feb-2017         671099\n",
       "\n",
       "[86 rows x 2 columns]"
      ]
     },
     "execution_count": 68,
     "metadata": {},
     "output_type": "execute_result"
    }
   ],
   "source": [
    "#Import data\n",
    "budget = Path(\"Resources/budget_data.csv\")\n",
    "\n",
    "#Read in data\n",
    "pnl_df = pd.read_csv(budget)\n",
    "pnl_df"
   ]
  },
  {
   "cell_type": "code",
   "execution_count": 42,
   "id": "7b1282ee-f15a-425c-a355-6ee7f7895fd8",
   "metadata": {},
   "outputs": [],
   "source": [
    "#Initiating the variables\n",
    "count = 0\n",
    "total = 0\n",
    "average = 0\n",
    "maximum = 0\n",
    "minimum = 0"
   ]
  },
  {
   "cell_type": "code",
   "execution_count": 73,
   "id": "d5b60d04-7823-478c-8bb5-2fa75df37ae2",
   "metadata": {},
   "outputs": [],
   "source": [
    "#Count using count function of \n",
    "count = pnl_df[\"Date\"].count()"
   ]
  },
  {
   "cell_type": "code",
   "execution_count": 76,
   "id": "092297dd-7ff0-43f2-aba9-2294821587c3",
   "metadata": {},
   "outputs": [],
   "source": [
    "total = pnl_df[\"Profit/Losses\"].sum()"
   ]
  },
  {
   "cell_type": "code",
   "execution_count": 78,
   "id": "58c140c4-6c53-4149-b82b-0ba0731f43a9",
   "metadata": {},
   "outputs": [],
   "source": [
    "average = pnl_df[\"Profit/Losses\"].mean()"
   ]
  },
  {
   "cell_type": "code",
   "execution_count": 80,
   "id": "ed388616-dbc1-4f96-85ed-d24091fd43b6",
   "metadata": {},
   "outputs": [],
   "source": [
    "maximum = pnl_df[\"Profit/Losses\"].max()"
   ]
  },
  {
   "cell_type": "code",
   "execution_count": 83,
   "id": "ee4f0e69-e793-4630-8be9-943647c1feea",
   "metadata": {},
   "outputs": [],
   "source": [
    "minimum = pnl_df[\"Profit/Losses\"].min()"
   ]
  },
  {
   "cell_type": "code",
   "execution_count": 93,
   "id": "5dcf2e14-241d-431d-9bf3-27eddbad21b8",
   "metadata": {},
   "outputs": [
    {
     "ename": "KeyError",
     "evalue": "\"None of [Int64Index([  867884,   984655,   322013,   -69417,   310503,   522857,\\n             1033096,   604885,  -216386,   477532,   893810,   -80353,\\n              779806,  -335203,   697845,   793163,   485070,   584122,\\n               62729,   668179,   899906,   834719,   132003,   309978,\\n             -755566,  1170593,   252788,  1151518,   817256,   570757,\\n              506702, -1022534,   475062,   779976,   144175,   542494,\\n              359333,   321469,    67780,   471435,   565603,   872480,\\n              789480,   999942, -1196225,   268997,  -687986,  1150461,\\n              682458,   617856,   824098,   581943,   132864,   448062,\\n              689161,   800701,  1166643,   947333,   578668,   988505,\\n             1139715,  1029471,   687533,  -524626,   158620,    87795,\\n              423389,   840723,   568529,   332067,   989499,   778237,\\n              650000, -1100387,  -174946,   757143,   445709,   712961,\\n            -1163797,   569899,   768450,   102685,   795914,    60988,\\n              138230,   671099],\\n           dtype='int64')] are in the [index]\"",
     "output_type": "error",
     "traceback": [
      "\u001b[1;31m---------------------------------------------------------------------------\u001b[0m",
      "\u001b[1;31mKeyError\u001b[0m                                  Traceback (most recent call last)",
      "\u001b[1;32m~\\AppData\\Local\\Temp/ipykernel_31108/3661483446.py\u001b[0m in \u001b[0;36m<module>\u001b[1;34m\u001b[0m\n\u001b[1;32m----> 1\u001b[1;33m \u001b[0mpnl_df\u001b[0m\u001b[1;33m.\u001b[0m\u001b[0mloc\u001b[0m\u001b[1;33m[\u001b[0m\u001b[0mpnl_df\u001b[0m\u001b[1;33m[\u001b[0m\u001b[1;34m'Profit/Losses'\u001b[0m\u001b[1;33m]\u001b[0m\u001b[1;33m]\u001b[0m\u001b[1;33m.\u001b[0m\u001b[0mhead\u001b[0m\u001b[1;33m(\u001b[0m\u001b[1;33m)\u001b[0m\u001b[1;33m\u001b[0m\u001b[1;33m\u001b[0m\u001b[0m\n\u001b[0m",
      "\u001b[1;32m~\\anaconda3\\lib\\site-packages\\pandas\\core\\indexing.py\u001b[0m in \u001b[0;36m__getitem__\u001b[1;34m(self, key)\u001b[0m\n\u001b[0;32m    929\u001b[0m \u001b[1;33m\u001b[0m\u001b[0m\n\u001b[0;32m    930\u001b[0m             \u001b[0mmaybe_callable\u001b[0m \u001b[1;33m=\u001b[0m \u001b[0mcom\u001b[0m\u001b[1;33m.\u001b[0m\u001b[0mapply_if_callable\u001b[0m\u001b[1;33m(\u001b[0m\u001b[0mkey\u001b[0m\u001b[1;33m,\u001b[0m \u001b[0mself\u001b[0m\u001b[1;33m.\u001b[0m\u001b[0mobj\u001b[0m\u001b[1;33m)\u001b[0m\u001b[1;33m\u001b[0m\u001b[1;33m\u001b[0m\u001b[0m\n\u001b[1;32m--> 931\u001b[1;33m             \u001b[1;32mreturn\u001b[0m \u001b[0mself\u001b[0m\u001b[1;33m.\u001b[0m\u001b[0m_getitem_axis\u001b[0m\u001b[1;33m(\u001b[0m\u001b[0mmaybe_callable\u001b[0m\u001b[1;33m,\u001b[0m \u001b[0maxis\u001b[0m\u001b[1;33m=\u001b[0m\u001b[0maxis\u001b[0m\u001b[1;33m)\u001b[0m\u001b[1;33m\u001b[0m\u001b[1;33m\u001b[0m\u001b[0m\n\u001b[0m\u001b[0;32m    932\u001b[0m \u001b[1;33m\u001b[0m\u001b[0m\n\u001b[0;32m    933\u001b[0m     \u001b[1;32mdef\u001b[0m \u001b[0m_is_scalar_access\u001b[0m\u001b[1;33m(\u001b[0m\u001b[0mself\u001b[0m\u001b[1;33m,\u001b[0m \u001b[0mkey\u001b[0m\u001b[1;33m:\u001b[0m \u001b[0mtuple\u001b[0m\u001b[1;33m)\u001b[0m\u001b[1;33m:\u001b[0m\u001b[1;33m\u001b[0m\u001b[1;33m\u001b[0m\u001b[0m\n",
      "\u001b[1;32m~\\anaconda3\\lib\\site-packages\\pandas\\core\\indexing.py\u001b[0m in \u001b[0;36m_getitem_axis\u001b[1;34m(self, key, axis)\u001b[0m\n\u001b[0;32m   1151\u001b[0m                     \u001b[1;32mraise\u001b[0m \u001b[0mValueError\u001b[0m\u001b[1;33m(\u001b[0m\u001b[1;34m\"Cannot index with multidimensional key\"\u001b[0m\u001b[1;33m)\u001b[0m\u001b[1;33m\u001b[0m\u001b[1;33m\u001b[0m\u001b[0m\n\u001b[0;32m   1152\u001b[0m \u001b[1;33m\u001b[0m\u001b[0m\n\u001b[1;32m-> 1153\u001b[1;33m                 \u001b[1;32mreturn\u001b[0m \u001b[0mself\u001b[0m\u001b[1;33m.\u001b[0m\u001b[0m_getitem_iterable\u001b[0m\u001b[1;33m(\u001b[0m\u001b[0mkey\u001b[0m\u001b[1;33m,\u001b[0m \u001b[0maxis\u001b[0m\u001b[1;33m=\u001b[0m\u001b[0maxis\u001b[0m\u001b[1;33m)\u001b[0m\u001b[1;33m\u001b[0m\u001b[1;33m\u001b[0m\u001b[0m\n\u001b[0m\u001b[0;32m   1154\u001b[0m \u001b[1;33m\u001b[0m\u001b[0m\n\u001b[0;32m   1155\u001b[0m             \u001b[1;31m# nested tuple slicing\u001b[0m\u001b[1;33m\u001b[0m\u001b[1;33m\u001b[0m\u001b[1;33m\u001b[0m\u001b[0m\n",
      "\u001b[1;32m~\\anaconda3\\lib\\site-packages\\pandas\\core\\indexing.py\u001b[0m in \u001b[0;36m_getitem_iterable\u001b[1;34m(self, key, axis)\u001b[0m\n\u001b[0;32m   1091\u001b[0m \u001b[1;33m\u001b[0m\u001b[0m\n\u001b[0;32m   1092\u001b[0m         \u001b[1;31m# A collection of keys\u001b[0m\u001b[1;33m\u001b[0m\u001b[1;33m\u001b[0m\u001b[1;33m\u001b[0m\u001b[0m\n\u001b[1;32m-> 1093\u001b[1;33m         \u001b[0mkeyarr\u001b[0m\u001b[1;33m,\u001b[0m \u001b[0mindexer\u001b[0m \u001b[1;33m=\u001b[0m \u001b[0mself\u001b[0m\u001b[1;33m.\u001b[0m\u001b[0m_get_listlike_indexer\u001b[0m\u001b[1;33m(\u001b[0m\u001b[0mkey\u001b[0m\u001b[1;33m,\u001b[0m \u001b[0maxis\u001b[0m\u001b[1;33m)\u001b[0m\u001b[1;33m\u001b[0m\u001b[1;33m\u001b[0m\u001b[0m\n\u001b[0m\u001b[0;32m   1094\u001b[0m         return self.obj._reindex_with_indexers(\n\u001b[0;32m   1095\u001b[0m             \u001b[1;33m{\u001b[0m\u001b[0maxis\u001b[0m\u001b[1;33m:\u001b[0m \u001b[1;33m[\u001b[0m\u001b[0mkeyarr\u001b[0m\u001b[1;33m,\u001b[0m \u001b[0mindexer\u001b[0m\u001b[1;33m]\u001b[0m\u001b[1;33m}\u001b[0m\u001b[1;33m,\u001b[0m \u001b[0mcopy\u001b[0m\u001b[1;33m=\u001b[0m\u001b[1;32mTrue\u001b[0m\u001b[1;33m,\u001b[0m \u001b[0mallow_dups\u001b[0m\u001b[1;33m=\u001b[0m\u001b[1;32mTrue\u001b[0m\u001b[1;33m\u001b[0m\u001b[1;33m\u001b[0m\u001b[0m\n",
      "\u001b[1;32m~\\anaconda3\\lib\\site-packages\\pandas\\core\\indexing.py\u001b[0m in \u001b[0;36m_get_listlike_indexer\u001b[1;34m(self, key, axis)\u001b[0m\n\u001b[0;32m   1312\u001b[0m             \u001b[0mkeyarr\u001b[0m\u001b[1;33m,\u001b[0m \u001b[0mindexer\u001b[0m\u001b[1;33m,\u001b[0m \u001b[0mnew_indexer\u001b[0m \u001b[1;33m=\u001b[0m \u001b[0max\u001b[0m\u001b[1;33m.\u001b[0m\u001b[0m_reindex_non_unique\u001b[0m\u001b[1;33m(\u001b[0m\u001b[0mkeyarr\u001b[0m\u001b[1;33m)\u001b[0m\u001b[1;33m\u001b[0m\u001b[1;33m\u001b[0m\u001b[0m\n\u001b[0;32m   1313\u001b[0m \u001b[1;33m\u001b[0m\u001b[0m\n\u001b[1;32m-> 1314\u001b[1;33m         \u001b[0mself\u001b[0m\u001b[1;33m.\u001b[0m\u001b[0m_validate_read_indexer\u001b[0m\u001b[1;33m(\u001b[0m\u001b[0mkeyarr\u001b[0m\u001b[1;33m,\u001b[0m \u001b[0mindexer\u001b[0m\u001b[1;33m,\u001b[0m \u001b[0maxis\u001b[0m\u001b[1;33m)\u001b[0m\u001b[1;33m\u001b[0m\u001b[1;33m\u001b[0m\u001b[0m\n\u001b[0m\u001b[0;32m   1315\u001b[0m \u001b[1;33m\u001b[0m\u001b[0m\n\u001b[0;32m   1316\u001b[0m         if needs_i8_conversion(ax.dtype) or isinstance(\n",
      "\u001b[1;32m~\\anaconda3\\lib\\site-packages\\pandas\\core\\indexing.py\u001b[0m in \u001b[0;36m_validate_read_indexer\u001b[1;34m(self, key, indexer, axis)\u001b[0m\n\u001b[0;32m   1372\u001b[0m                 \u001b[1;32mif\u001b[0m \u001b[0muse_interval_msg\u001b[0m\u001b[1;33m:\u001b[0m\u001b[1;33m\u001b[0m\u001b[1;33m\u001b[0m\u001b[0m\n\u001b[0;32m   1373\u001b[0m                     \u001b[0mkey\u001b[0m \u001b[1;33m=\u001b[0m \u001b[0mlist\u001b[0m\u001b[1;33m(\u001b[0m\u001b[0mkey\u001b[0m\u001b[1;33m)\u001b[0m\u001b[1;33m\u001b[0m\u001b[1;33m\u001b[0m\u001b[0m\n\u001b[1;32m-> 1374\u001b[1;33m                 \u001b[1;32mraise\u001b[0m \u001b[0mKeyError\u001b[0m\u001b[1;33m(\u001b[0m\u001b[1;34mf\"None of [{key}] are in the [{axis_name}]\"\u001b[0m\u001b[1;33m)\u001b[0m\u001b[1;33m\u001b[0m\u001b[1;33m\u001b[0m\u001b[0m\n\u001b[0m\u001b[0;32m   1375\u001b[0m \u001b[1;33m\u001b[0m\u001b[0m\n\u001b[0;32m   1376\u001b[0m             \u001b[0mnot_found\u001b[0m \u001b[1;33m=\u001b[0m \u001b[0mlist\u001b[0m\u001b[1;33m(\u001b[0m\u001b[0mensure_index\u001b[0m\u001b[1;33m(\u001b[0m\u001b[0mkey\u001b[0m\u001b[1;33m)\u001b[0m\u001b[1;33m[\u001b[0m\u001b[0mmissing_mask\u001b[0m\u001b[1;33m.\u001b[0m\u001b[0mnonzero\u001b[0m\u001b[1;33m(\u001b[0m\u001b[1;33m)\u001b[0m\u001b[1;33m[\u001b[0m\u001b[1;36m0\u001b[0m\u001b[1;33m]\u001b[0m\u001b[1;33m]\u001b[0m\u001b[1;33m.\u001b[0m\u001b[0munique\u001b[0m\u001b[1;33m(\u001b[0m\u001b[1;33m)\u001b[0m\u001b[1;33m)\u001b[0m\u001b[1;33m\u001b[0m\u001b[1;33m\u001b[0m\u001b[0m\n",
      "\u001b[1;31mKeyError\u001b[0m: \"None of [Int64Index([  867884,   984655,   322013,   -69417,   310503,   522857,\\n             1033096,   604885,  -216386,   477532,   893810,   -80353,\\n              779806,  -335203,   697845,   793163,   485070,   584122,\\n               62729,   668179,   899906,   834719,   132003,   309978,\\n             -755566,  1170593,   252788,  1151518,   817256,   570757,\\n              506702, -1022534,   475062,   779976,   144175,   542494,\\n              359333,   321469,    67780,   471435,   565603,   872480,\\n              789480,   999942, -1196225,   268997,  -687986,  1150461,\\n              682458,   617856,   824098,   581943,   132864,   448062,\\n              689161,   800701,  1166643,   947333,   578668,   988505,\\n             1139715,  1029471,   687533,  -524626,   158620,    87795,\\n              423389,   840723,   568529,   332067,   989499,   778237,\\n              650000, -1100387,  -174946,   757143,   445709,   712961,\\n            -1163797,   569899,   768450,   102685,   795914,    60988,\\n              138230,   671099],\\n           dtype='int64')] are in the [index]\""
     ]
    }
   ],
   "source": [
    "pnl_df.loc[pnl_df['Profit/Losses']].head()\n"
   ]
  },
  {
   "cell_type": "code",
   "execution_count": 88,
   "id": "a5582198-3c57-4324-80fa-d0df03579ac4",
   "metadata": {},
   "outputs": [
    {
     "name": "stdout",
     "output_type": "stream",
     "text": [
      "Financial Analysis\n",
      "-------------------------------------\n",
      "Total Months: 86\n",
      "Total : $38,382,578\n",
      "Average Change: $446,309.05\n",
      "Greatest Increase in Profits: 1170593 ($1,170,593)\n",
      "Greatest Decrease in Profits: -1196225 ($-1,196,225)\n"
     ]
    }
   ],
   "source": [
    "print(f\"Financial Analysis\")\n",
    "print(f\"-------------------------------------\")\n",
    "print(f\"Total Months: {count}\")\n",
    "print(f\"Total : ${total:,}\")\n",
    "print(f\"Average Change: ${average:,.2f}\")\n",
    "print(f\"Greatest Increase in Profits: {pnl_df.loc(maximum)} (${maximum:,})\")\n",
    "print(f\"Greatest Decrease in Profits: {minimum} (${minimum:,})\")"
   ]
  },
  {
   "cell_type": "code",
   "execution_count": null,
   "id": "a3b3baf3-068d-4634-88c9-ad1b79abb3b9",
   "metadata": {},
   "outputs": [],
   "source": []
  }
 ],
 "metadata": {
  "kernelspec": {
   "display_name": "Python 3 (ipykernel)",
   "language": "python",
   "name": "python3"
  },
  "language_info": {
   "codemirror_mode": {
    "name": "ipython",
    "version": 3
   },
   "file_extension": ".py",
   "mimetype": "text/x-python",
   "name": "python",
   "nbconvert_exporter": "python",
   "pygments_lexer": "ipython3",
   "version": "3.8.8"
  }
 },
 "nbformat": 4,
 "nbformat_minor": 5
}
