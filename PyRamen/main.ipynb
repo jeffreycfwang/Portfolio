{
 "cells": [
  {
   "cell_type": "code",
   "execution_count": 2,
   "id": "a7d11fdf-91df-426d-bfd0-2a1ef3e4799a",
   "metadata": {},
   "outputs": [
    {
     "data": {
      "text/plain": [
       "'PyRamen Homework Starter.'"
      ]
     },
     "execution_count": 2,
     "metadata": {},
     "output_type": "execute_result"
    }
   ],
   "source": [
    "# -*- coding: UTF-8 -*-\n",
    "\"\"\"PyRamen Homework Starter.\"\"\""
   ]
  },
  {
   "cell_type": "code",
   "execution_count": 3,
   "id": "e829130a-bdf3-41b0-aa19-dc357d89fdad",
   "metadata": {},
   "outputs": [],
   "source": [
    "# @TODO: Import libraries\n",
    "import csv\n",
    "from pathlib import Path\n",
    "import pandas as pd"
   ]
  },
  {
   "cell_type": "code",
   "execution_count": 4,
   "id": "7cf46e53-3e82-4704-98d8-544805f1ed90",
   "metadata": {},
   "outputs": [],
   "source": [
    "# @TODO: Set file paths for menu_data.csv and sales_data.csv\n",
    "menu_filepath = Path('Resources/menu_data.csv')\n",
    "sales_filepath = Path('Resources/sales_data.csv')"
   ]
  },
  {
   "cell_type": "code",
   "execution_count": 5,
   "id": "4db6e466-d610-451c-ae82-cd27f4fe635a",
   "metadata": {},
   "outputs": [],
   "source": [
    "# @TODO: Initialize list objects to hold our menu and sales data\n",
    "menu = []\n",
    "sales = []"
   ]
  },
  {
   "cell_type": "code",
   "execution_count": 6,
   "id": "833f908a-e482-4cc2-9539-2bfb9237abff",
   "metadata": {},
   "outputs": [
    {
     "data": {
      "text/html": [
       "<div>\n",
       "<style scoped>\n",
       "    .dataframe tbody tr th:only-of-type {\n",
       "        vertical-align: middle;\n",
       "    }\n",
       "\n",
       "    .dataframe tbody tr th {\n",
       "        vertical-align: top;\n",
       "    }\n",
       "\n",
       "    .dataframe thead th {\n",
       "        text-align: right;\n",
       "    }\n",
       "</style>\n",
       "<table border=\"1\" class=\"dataframe\">\n",
       "  <thead>\n",
       "    <tr style=\"text-align: right;\">\n",
       "      <th></th>\n",
       "      <th>item</th>\n",
       "      <th>category</th>\n",
       "      <th>description</th>\n",
       "      <th>price</th>\n",
       "      <th>cost</th>\n",
       "    </tr>\n",
       "  </thead>\n",
       "  <tbody>\n",
       "    <tr>\n",
       "      <th>0</th>\n",
       "      <td>edamame</td>\n",
       "      <td>appetizers</td>\n",
       "      <td>boiled soybeans, maldon sea salt</td>\n",
       "      <td>4.0</td>\n",
       "      <td>1</td>\n",
       "    </tr>\n",
       "    <tr>\n",
       "      <th>1</th>\n",
       "      <td>house salad</td>\n",
       "      <td>appetizers</td>\n",
       "      <td>mixed greens, cherry tomatoes, cucumber, house...</td>\n",
       "      <td>4.0</td>\n",
       "      <td>2</td>\n",
       "    </tr>\n",
       "    <tr>\n",
       "      <th>2</th>\n",
       "      <td>cucumber sunomono salad</td>\n",
       "      <td>appetizers</td>\n",
       "      <td>cucumber, ponzu dressing, pickled ginger sprou...</td>\n",
       "      <td>5.0</td>\n",
       "      <td>2</td>\n",
       "    </tr>\n",
       "    <tr>\n",
       "      <th>3</th>\n",
       "      <td>hiyashi wakame seaweed salad</td>\n",
       "      <td>appetizers</td>\n",
       "      <td>sweet soy-marinated wakame seaweed threads, pi...</td>\n",
       "      <td>5.0</td>\n",
       "      <td>2</td>\n",
       "    </tr>\n",
       "    <tr>\n",
       "      <th>4</th>\n",
       "      <td>agedashi tofu</td>\n",
       "      <td>appetizers</td>\n",
       "      <td>tempura battered tofu, katsuobushi, tsuyu brot...</td>\n",
       "      <td>5.0</td>\n",
       "      <td>2</td>\n",
       "    </tr>\n",
       "  </tbody>\n",
       "</table>\n",
       "</div>"
      ],
      "text/plain": [
       "                           item    category  \\\n",
       "0                       edamame  appetizers   \n",
       "1                   house salad  appetizers   \n",
       "2       cucumber sunomono salad  appetizers   \n",
       "3  hiyashi wakame seaweed salad  appetizers   \n",
       "4                 agedashi tofu  appetizers   \n",
       "\n",
       "                                         description  price  cost  \n",
       "0                   boiled soybeans, maldon sea salt    4.0     1  \n",
       "1  mixed greens, cherry tomatoes, cucumber, house...    4.0     2  \n",
       "2  cucumber, ponzu dressing, pickled ginger sprou...    5.0     2  \n",
       "3  sweet soy-marinated wakame seaweed threads, pi...    5.0     2  \n",
       "4  tempura battered tofu, katsuobushi, tsuyu brot...    5.0     2  "
      ]
     },
     "execution_count": 6,
     "metadata": {},
     "output_type": "execute_result"
    }
   ],
   "source": [
    "# @TODO: Read in the menu data into the menu list\n",
    "menu_df = pd.read_csv(menu_filepath)\n",
    "menu_df.head()"
   ]
  },
  {
   "cell_type": "code",
   "execution_count": 7,
   "id": "8f24342c-0452-4f06-a17f-2e5430dbbdc7",
   "metadata": {},
   "outputs": [
    {
     "data": {
      "text/html": [
       "<div>\n",
       "<style scoped>\n",
       "    .dataframe tbody tr th:only-of-type {\n",
       "        vertical-align: middle;\n",
       "    }\n",
       "\n",
       "    .dataframe tbody tr th {\n",
       "        vertical-align: top;\n",
       "    }\n",
       "\n",
       "    .dataframe thead th {\n",
       "        text-align: right;\n",
       "    }\n",
       "</style>\n",
       "<table border=\"1\" class=\"dataframe\">\n",
       "  <thead>\n",
       "    <tr style=\"text-align: right;\">\n",
       "      <th></th>\n",
       "      <th>Line_Item_ID</th>\n",
       "      <th>Date</th>\n",
       "      <th>Credit_Card_Number</th>\n",
       "      <th>Quantity</th>\n",
       "      <th>Menu_Item</th>\n",
       "    </tr>\n",
       "  </thead>\n",
       "  <tbody>\n",
       "    <tr>\n",
       "      <th>0</th>\n",
       "      <td>1</td>\n",
       "      <td>01-01-2017</td>\n",
       "      <td>7437926611570799</td>\n",
       "      <td>1</td>\n",
       "      <td>spicy miso ramen</td>\n",
       "    </tr>\n",
       "    <tr>\n",
       "      <th>1</th>\n",
       "      <td>2</td>\n",
       "      <td>01-01-2017</td>\n",
       "      <td>7437926611570799</td>\n",
       "      <td>1</td>\n",
       "      <td>spicy miso ramen</td>\n",
       "    </tr>\n",
       "    <tr>\n",
       "      <th>2</th>\n",
       "      <td>3</td>\n",
       "      <td>01-01-2017</td>\n",
       "      <td>8421920068932819</td>\n",
       "      <td>3</td>\n",
       "      <td>tori paitan ramen</td>\n",
       "    </tr>\n",
       "    <tr>\n",
       "      <th>3</th>\n",
       "      <td>4</td>\n",
       "      <td>01-01-2017</td>\n",
       "      <td>8421920068932819</td>\n",
       "      <td>3</td>\n",
       "      <td>tori paitan ramen</td>\n",
       "    </tr>\n",
       "    <tr>\n",
       "      <th>4</th>\n",
       "      <td>5</td>\n",
       "      <td>01-01-2017</td>\n",
       "      <td>4787310681569648</td>\n",
       "      <td>1</td>\n",
       "      <td>truffle butter ramen</td>\n",
       "    </tr>\n",
       "  </tbody>\n",
       "</table>\n",
       "</div>"
      ],
      "text/plain": [
       "   Line_Item_ID        Date  Credit_Card_Number  Quantity  \\\n",
       "0             1  01-01-2017    7437926611570799         1   \n",
       "1             2  01-01-2017    7437926611570799         1   \n",
       "2             3  01-01-2017    8421920068932819         3   \n",
       "3             4  01-01-2017    8421920068932819         3   \n",
       "4             5  01-01-2017    4787310681569648         1   \n",
       "\n",
       "              Menu_Item  \n",
       "0      spicy miso ramen  \n",
       "1      spicy miso ramen  \n",
       "2     tori paitan ramen  \n",
       "3     tori paitan ramen  \n",
       "4  truffle butter ramen  "
      ]
     },
     "execution_count": 7,
     "metadata": {},
     "output_type": "execute_result"
    }
   ],
   "source": [
    "# @TODO: Read in the sales data into the sales list\n",
    "sales_df = pd.read_csv(sales_filepath)\n",
    "sales_df.head()"
   ]
  },
  {
   "cell_type": "code",
   "execution_count": 8,
   "id": "30ead204-ada8-4725-8b48-4dbf7064866f",
   "metadata": {},
   "outputs": [],
   "source": [
    "# @TODO: Initialize dict object to hold our key-value pairs of items and metrics\n",
    "report = {\"01-count\":0, \"02-revenue\":0, \"03-cogs\":0, \"04-profit\":0}\n"
   ]
  },
  {
   "cell_type": "code",
   "execution_count": 9,
   "id": "e5a06fd8-772a-4df8-8221-0db48742dc80",
   "metadata": {},
   "outputs": [],
   "source": [
    "# Initialize a row counter variable\n",
    "row_count = 0"
   ]
  },
  {
   "cell_type": "code",
   "execution_count": 10,
   "id": "0023dcbd-de9e-4d42-8e6b-ba5369eae9f9",
   "metadata": {},
   "outputs": [],
   "source": [
    "# @TODO: Loop over every row in the sales list object"
   ]
  },
  {
   "cell_type": "code",
   "execution_count": 11,
   "id": "8ec2117a-b746-4ac8-b23c-2ecf5441ac3c",
   "metadata": {},
   "outputs": [],
   "source": [
    "   # Line_Item_ID,Date,Credit_Card_Number,Quantity,Menu_Item\n",
    "    # @TODO: Initialize sales data variables"
   ]
  },
  {
   "cell_type": "code",
   "execution_count": 12,
   "id": "51f977f2-f671-4639-a923-645112613da8",
   "metadata": {},
   "outputs": [],
   "source": [
    "    # @TODO:\n",
    "    # If the item value not in the report, add it as a new entry with initialized metrics\n",
    "    # Naming convention allows the keys to be ordered in logical fashion, count, revenue, cost, profit"
   ]
  },
  {
   "cell_type": "code",
   "execution_count": null,
   "id": "3991fbae-3c9b-4ebc-beae-bc92b43ccf35",
   "metadata": {},
   "outputs": [],
   "source": []
  },
  {
   "cell_type": "code",
   "execution_count": null,
   "id": "3ca527ae-8dc3-4091-82ad-c91c8a3b5d37",
   "metadata": {},
   "outputs": [],
   "source": []
  }
 ],
 "metadata": {
  "kernelspec": {
   "display_name": "Python 3 (ipykernel)",
   "language": "python",
   "name": "python3"
  },
  "language_info": {
   "codemirror_mode": {
    "name": "ipython",
    "version": 3
   },
   "file_extension": ".py",
   "mimetype": "text/x-python",
   "name": "python",
   "nbconvert_exporter": "python",
   "pygments_lexer": "ipython3",
   "version": "3.8.8"
  }
 },
 "nbformat": 4,
 "nbformat_minor": 5
}
